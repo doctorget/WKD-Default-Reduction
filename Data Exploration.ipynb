{
 "cells": [
  {
   "cell_type": "code",
   "execution_count": 14,
   "metadata": {},
   "outputs": [
    {
     "name": "stderr",
     "output_type": "stream",
     "text": [
      "C:\\Users\\samusilv\\AppData\\Local\\Continuum\\anaconda3\\lib\\site-packages\\statsmodels\\tools\\_testing.py:19: FutureWarning: pandas.util.testing is deprecated. Use the functions in the public API at pandas.testing instead.\n",
      "  import pandas.util.testing as tm\n"
     ]
    }
   ],
   "source": [
    "import pandas as pd\n",
    "import matplotlib.pyplot as plt\n",
    "import seaborn as sns"
   ]
  },
  {
   "cell_type": "code",
   "execution_count": 54,
   "metadata": {},
   "outputs": [],
   "source": [
    "df = pd.read_csv('dados/Credito.csv', sep = ';', encoding = 'cp860')"
   ]
  },
  {
   "cell_type": "code",
   "execution_count": 55,
   "metadata": {},
   "outputs": [
    {
     "data": {
      "text/html": [
       "<div>\n",
       "<style scoped>\n",
       "    .dataframe tbody tr th:only-of-type {\n",
       "        vertical-align: middle;\n",
       "    }\n",
       "\n",
       "    .dataframe tbody tr th {\n",
       "        vertical-align: top;\n",
       "    }\n",
       "\n",
       "    .dataframe thead th {\n",
       "        text-align: right;\n",
       "    }\n",
       "</style>\n",
       "<table border=\"1\" class=\"dataframe\">\n",
       "  <thead>\n",
       "    <tr style=\"text-align: right;\">\n",
       "      <th></th>\n",
       "      <th>CHEQUEESPECIAL</th>\n",
       "      <th>USO_CREDITO</th>\n",
       "      <th>HISTORICO_CREDITO</th>\n",
       "      <th>PROPOSITO</th>\n",
       "      <th>BALANCO_ATUAL</th>\n",
       "      <th>BALANCO_MEDIO_CREDITO</th>\n",
       "      <th>EMPREGADO</th>\n",
       "      <th>LOCAL</th>\n",
       "      <th>ESTADOCIVIL</th>\n",
       "      <th>OUTRASFUNCOES</th>\n",
       "      <th>RESIDENCIADESDE</th>\n",
       "      <th>TIPOSBENS</th>\n",
       "      <th>IDADE</th>\n",
       "      <th>OUTROSPLANOSPGTO</th>\n",
       "      <th>RESIDENCIA</th>\n",
       "      <th>CREDITOSEXISTENTES</th>\n",
       "      <th>EMPREGO</th>\n",
       "      <th>DEPENDENTES</th>\n",
       "      <th>TRABAESTRANGEIRO</th>\n",
       "      <th>CLASSE</th>\n",
       "    </tr>\n",
       "  </thead>\n",
       "  <tbody>\n",
       "    <tr>\n",
       "      <th>0</th>\n",
       "      <td>&lt;0</td>\n",
       "      <td>6</td>\n",
       "      <td>crφtica / outros de crΘdito existente</td>\n",
       "      <td>Computador/TV</td>\n",
       "      <td>1169</td>\n",
       "      <td>nenhuma economia conhecida</td>\n",
       "      <td>&gt;=7</td>\n",
       "      <td>4</td>\n",
       "      <td>masculino solteiro</td>\n",
       "      <td>nenhum</td>\n",
       "      <td>4</td>\n",
       "      <td>bens im≤veis</td>\n",
       "      <td>67</td>\n",
       "      <td>nenhum</td>\n",
       "      <td>pr≤pria</td>\n",
       "      <td>2</td>\n",
       "      <td>especializado</td>\n",
       "      <td>1</td>\n",
       "      <td>sim</td>\n",
       "      <td>bom</td>\n",
       "    </tr>\n",
       "    <tr>\n",
       "      <th>1</th>\n",
       "      <td>0&lt;=X&lt;200</td>\n",
       "      <td>48</td>\n",
       "      <td>existente e pago</td>\n",
       "      <td>Computador/TV</td>\n",
       "      <td>5951</td>\n",
       "      <td>&lt;100</td>\n",
       "      <td>1&lt;=X&lt;4</td>\n",
       "      <td>2</td>\n",
       "      <td>fem div/cas</td>\n",
       "      <td>nenhum</td>\n",
       "      <td>2</td>\n",
       "      <td>bens im≤veis</td>\n",
       "      <td>22</td>\n",
       "      <td>nenhum</td>\n",
       "      <td>pr≤pria</td>\n",
       "      <td>1</td>\n",
       "      <td>especializado</td>\n",
       "      <td>1</td>\n",
       "      <td>sim</td>\n",
       "      <td>ruim</td>\n",
       "    </tr>\n",
       "    <tr>\n",
       "      <th>2</th>\n",
       "      <td>sem cheque</td>\n",
       "      <td>12</td>\n",
       "      <td>crφtica / outros de crΘdito existente</td>\n",
       "      <td>educaτπo</td>\n",
       "      <td>2096</td>\n",
       "      <td>&lt;100</td>\n",
       "      <td>4&lt;=X&lt;7</td>\n",
       "      <td>2</td>\n",
       "      <td>masculino solteiro</td>\n",
       "      <td>nenhum</td>\n",
       "      <td>3</td>\n",
       "      <td>bens im≤veis</td>\n",
       "      <td>49</td>\n",
       "      <td>nenhum</td>\n",
       "      <td>pr≤pria</td>\n",
       "      <td>1</td>\n",
       "      <td>nπo especializado</td>\n",
       "      <td>2</td>\n",
       "      <td>sim</td>\n",
       "      <td>bom</td>\n",
       "    </tr>\n",
       "    <tr>\n",
       "      <th>3</th>\n",
       "      <td>&lt;0</td>\n",
       "      <td>42</td>\n",
       "      <td>existente e pago</td>\n",
       "      <td>mobilia/equipamento</td>\n",
       "      <td>7882</td>\n",
       "      <td>&lt;100</td>\n",
       "      <td>4&lt;=X&lt;7</td>\n",
       "      <td>2</td>\n",
       "      <td>masculino solteiro</td>\n",
       "      <td>fiador</td>\n",
       "      <td>4</td>\n",
       "      <td>seguro de vida</td>\n",
       "      <td>45</td>\n",
       "      <td>nenhum</td>\n",
       "      <td>gratuitamente</td>\n",
       "      <td>1</td>\n",
       "      <td>especializado</td>\n",
       "      <td>2</td>\n",
       "      <td>sim</td>\n",
       "      <td>bom</td>\n",
       "    </tr>\n",
       "    <tr>\n",
       "      <th>4</th>\n",
       "      <td>&lt;0</td>\n",
       "      <td>24</td>\n",
       "      <td>atrasos anteriores</td>\n",
       "      <td>carro novo</td>\n",
       "      <td>4870</td>\n",
       "      <td>&lt;100</td>\n",
       "      <td>1&lt;=X&lt;4</td>\n",
       "      <td>3</td>\n",
       "      <td>masculino solteiro</td>\n",
       "      <td>nenhum</td>\n",
       "      <td>4</td>\n",
       "      <td>nenhuma conhecida</td>\n",
       "      <td>53</td>\n",
       "      <td>nenhum</td>\n",
       "      <td>gratuitamente</td>\n",
       "      <td>2</td>\n",
       "      <td>especializado</td>\n",
       "      <td>2</td>\n",
       "      <td>sim</td>\n",
       "      <td>ruim</td>\n",
       "    </tr>\n",
       "  </tbody>\n",
       "</table>\n",
       "</div>"
      ],
      "text/plain": [
       "  CHEQUEESPECIAL  USO_CREDITO                      HISTORICO_CREDITO  \\\n",
       "0             <0            6  crφtica / outros de crΘdito existente   \n",
       "1       0<=X<200           48                       existente e pago   \n",
       "2     sem cheque           12  crφtica / outros de crΘdito existente   \n",
       "3             <0           42                       existente e pago   \n",
       "4             <0           24                     atrasos anteriores   \n",
       "\n",
       "             PROPOSITO  BALANCO_ATUAL       BALANCO_MEDIO_CREDITO EMPREGADO  \\\n",
       "0        Computador/TV           1169  nenhuma economia conhecida       >=7   \n",
       "1        Computador/TV           5951                        <100    1<=X<4   \n",
       "2             educaτπo           2096                        <100    4<=X<7   \n",
       "3  mobilia/equipamento           7882                        <100    4<=X<7   \n",
       "4           carro novo           4870                        <100    1<=X<4   \n",
       "\n",
       "   LOCAL         ESTADOCIVIL OUTRASFUNCOES  RESIDENCIADESDE  \\\n",
       "0      4  masculino solteiro        nenhum                4   \n",
       "1      2         fem div/cas        nenhum                2   \n",
       "2      2  masculino solteiro        nenhum                3   \n",
       "3      2  masculino solteiro        fiador                4   \n",
       "4      3  masculino solteiro        nenhum                4   \n",
       "\n",
       "           TIPOSBENS  IDADE OUTROSPLANOSPGTO     RESIDENCIA  \\\n",
       "0       bens im≤veis     67           nenhum        pr≤pria   \n",
       "1       bens im≤veis     22           nenhum        pr≤pria   \n",
       "2       bens im≤veis     49           nenhum        pr≤pria   \n",
       "3     seguro de vida     45           nenhum  gratuitamente   \n",
       "4  nenhuma conhecida     53           nenhum  gratuitamente   \n",
       "\n",
       "   CREDITOSEXISTENTES            EMPREGO  DEPENDENTES TRABAESTRANGEIRO CLASSE  \n",
       "0                   2      especializado            1              sim    bom  \n",
       "1                   1      especializado            1              sim   ruim  \n",
       "2                   1  nπo especializado            2              sim    bom  \n",
       "3                   1      especializado            2              sim    bom  \n",
       "4                   2      especializado            2              sim   ruim  "
      ]
     },
     "execution_count": 55,
     "metadata": {},
     "output_type": "execute_result"
    }
   ],
   "source": [
    "df.head()"
   ]
  },
  {
   "cell_type": "code",
   "execution_count": 7,
   "metadata": {},
   "outputs": [
    {
     "data": {
      "text/plain": [
       "(1000, 20)"
      ]
     },
     "execution_count": 7,
     "metadata": {},
     "output_type": "execute_result"
    }
   ],
   "source": [
    "df.shape"
   ]
  },
  {
   "cell_type": "code",
   "execution_count": 51,
   "metadata": {},
   "outputs": [],
   "source": [
    "a_trocar = {\n",
    "    'ruim': 2,\n",
    "    'bom':1,\n",
    "}\n",
    "df.CLASSE = df.CLASSE.map(a_trocar)"
   ]
  },
  {
   "cell_type": "code",
   "execution_count": 28,
   "metadata": {},
   "outputs": [
    {
     "data": {
      "text/plain": [
       "Text(0, 0.5, 'IDADE')"
      ]
     },
     "execution_count": 28,
     "metadata": {},
     "output_type": "execute_result"
    },
    {
     "data": {
      "image/png": "[encoded data removed]",
      "text/plain": [
       "<Figure size 432x288 with 1 Axes>"
      ]
     },
     "metadata": {
      "needs_background": "light"
     },
     "output_type": "display_data"
    }
   ],
   "source": [
    "plt.scatter(df.USO_CREDITO, df.IDADE)\n",
    "plt.title('Credito')\n",
    "plt.xlabel('USO DE CREDITO')\n",
    "plt.ylabel('IDADE')"
   ]
  },
  {
   "cell_type": "code",
   "execution_count": 41,
   "metadata": {},
   "outputs": [],
   "source": [
    "agrupado = df.groupby(['RESIDENCIA'])['BALANCO_ATUAL'].sum()"
   ]
  },
  {
   "cell_type": "code",
   "execution_count": 42,
   "metadata": {},
   "outputs": [
    {
     "data": {
      "text/plain": [
       "<matplotlib.axes._subplots.AxesSubplot at 0x1fb011651c8>"
      ]
     },
     "execution_count": 42,
     "metadata": {},
     "output_type": "execute_result"
    },
    {
     "data": {
      "image/png": "[encoded data removed]",
      "text/plain": [
       "<Figure size 432x288 with 1 Axes>"
      ]
     },
     "metadata": {
      "needs_background": "light"
     },
     "output_type": "display_data"
    }
   ],
   "source": [
    "agrupado.plot.bar()"
   ]
  },
  {
   "cell_type": "code",
   "execution_count": 43,
   "metadata": {},
   "outputs": [
    {
     "data": {
      "text/plain": [
       "<matplotlib.axes._subplots.AxesSubplot at 0x1fb7ff386c8>"
      ]
     },
     "execution_count": 43,
     "metadata": {},
     "output_type": "execute_result"
    },
    {
     "data": {
      "image/png": "[encoded data removed]",
      "text/plain": [
       "<Figure size 432x288 with 1 Axes>"
      ]
     },
     "metadata": {
      "needs_background": "light"
     },
     "output_type": "display_data"
    }
   ],
   "source": [
    "agrupado = df.groupby(['EMPREGO'])['BALANCO_ATUAL'].sum()\n",
    "agrupado.plot.bar()"
   ]
  },
  {
   "cell_type": "code",
   "execution_count": 56,
   "metadata": {},
   "outputs": [
    {
     "data": {
      "text/plain": [
       "<matplotlib.axes._subplots.AxesSubplot at 0x1fb02992848>"
      ]
     },
     "execution_count": 56,
     "metadata": {},
     "output_type": "execute_result"
    },
    {
     "data": {
      "image/png": "[encoded data removed]",
      "text/plain": [
       "<Figure size 432x288 with 1 Axes>"
      ]
     },
     "metadata": {
      "needs_background": "light"
     },
     "output_type": "display_data"
    }
   ],
   "source": [
    "agrupado = df.groupby(['CLASSE'])['BALANCO_ATUAL'].sum()\n",
    "agrupado.plot.bar()"
   ]
  },
  {
   "cell_type": "code",
   "execution_count": null,
   "metadata": {},
   "outputs": [],
   "source": []
  }
 ],
 "metadata": {
  "kernelspec": {
   "display_name": "Python 3",
   "language": "python",
   "name": "python3"
  },
  "language_info": {
   "codemirror_mode": {
    "name": "ipython",
    "version": 3
   },
   "file_extension": ".py",
   "mimetype": "text/x-python",
   "name": "python",
   "nbconvert_exporter": "python",
   "pygments_lexer": "ipython3",
   "version": "3.7.4"
  }
 },
 "nbformat": 4,
 "nbformat_minor": 2
}
