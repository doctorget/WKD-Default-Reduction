{
 "cells": [
  {
   "cell_type": "code",
   "execution_count": 1,
   "metadata": {},
   "outputs": [],
   "source": [
    "import pandas as pd"
   ]
  },
  {
   "cell_type": "code",
   "execution_count": 3,
   "metadata": {},
   "outputs": [],
   "source": [
    "df = pd.read_csv(\"dados/Credito.csv\",sep = ';', encoding = 'cp860')"
   ]
  },
  {
   "cell_type": "code",
   "execution_count": 4,
   "metadata": {},
   "outputs": [
    {
     "data": {
      "text/html": [
       "<div>\n",
       "<style scoped>\n",
       "    .dataframe tbody tr th:only-of-type {\n",
       "        vertical-align: middle;\n",
       "    }\n",
       "\n",
       "    .dataframe tbody tr th {\n",
       "        vertical-align: top;\n",
       "    }\n",
       "\n",
       "    .dataframe thead th {\n",
       "        text-align: right;\n",
       "    }\n",
       "</style>\n",
       "<table border=\"1\" class=\"dataframe\">\n",
       "  <thead>\n",
       "    <tr style=\"text-align: right;\">\n",
       "      <th></th>\n",
       "      <th>CHEQUEESPECIAL</th>\n",
       "      <th>USO_CREDITO</th>\n",
       "      <th>HISTORICO_CREDITO</th>\n",
       "      <th>PROPOSITO</th>\n",
       "      <th>BALANCO_ATUAL</th>\n",
       "      <th>BALANCO_MEDIO_CREDITO</th>\n",
       "      <th>EMPREGADO</th>\n",
       "      <th>LOCAL</th>\n",
       "      <th>ESTADOCIVIL</th>\n",
       "      <th>OUTRASFUNCOES</th>\n",
       "      <th>RESIDENCIADESDE</th>\n",
       "      <th>TIPOSBENS</th>\n",
       "      <th>IDADE</th>\n",
       "      <th>OUTROSPLANOSPGTO</th>\n",
       "      <th>RESIDENCIA</th>\n",
       "      <th>CREDITOSEXISTENTES</th>\n",
       "      <th>EMPREGO</th>\n",
       "      <th>DEPENDENTES</th>\n",
       "      <th>TRABAESTRANGEIRO</th>\n",
       "      <th>CLASSE</th>\n",
       "    </tr>\n",
       "  </thead>\n",
       "  <tbody>\n",
       "    <tr>\n",
       "      <th>0</th>\n",
       "      <td>&lt;0</td>\n",
       "      <td>6</td>\n",
       "      <td>crφtica / outros de crΘdito existente</td>\n",
       "      <td>Computador/TV</td>\n",
       "      <td>1169</td>\n",
       "      <td>nenhuma economia conhecida</td>\n",
       "      <td>&gt;=7</td>\n",
       "      <td>4</td>\n",
       "      <td>masculino solteiro</td>\n",
       "      <td>nenhum</td>\n",
       "      <td>4</td>\n",
       "      <td>bens im≤veis</td>\n",
       "      <td>67</td>\n",
       "      <td>nenhum</td>\n",
       "      <td>pr≤pria</td>\n",
       "      <td>2</td>\n",
       "      <td>especializado</td>\n",
       "      <td>1</td>\n",
       "      <td>sim</td>\n",
       "      <td>bom</td>\n",
       "    </tr>\n",
       "    <tr>\n",
       "      <th>1</th>\n",
       "      <td>0&lt;=X&lt;200</td>\n",
       "      <td>48</td>\n",
       "      <td>existente e pago</td>\n",
       "      <td>Computador/TV</td>\n",
       "      <td>5951</td>\n",
       "      <td>&lt;100</td>\n",
       "      <td>1&lt;=X&lt;4</td>\n",
       "      <td>2</td>\n",
       "      <td>fem div/cas</td>\n",
       "      <td>nenhum</td>\n",
       "      <td>2</td>\n",
       "      <td>bens im≤veis</td>\n",
       "      <td>22</td>\n",
       "      <td>nenhum</td>\n",
       "      <td>pr≤pria</td>\n",
       "      <td>1</td>\n",
       "      <td>especializado</td>\n",
       "      <td>1</td>\n",
       "      <td>sim</td>\n",
       "      <td>ruim</td>\n",
       "    </tr>\n",
       "    <tr>\n",
       "      <th>2</th>\n",
       "      <td>sem cheque</td>\n",
       "      <td>12</td>\n",
       "      <td>crφtica / outros de crΘdito existente</td>\n",
       "      <td>educaτπo</td>\n",
       "      <td>2096</td>\n",
       "      <td>&lt;100</td>\n",
       "      <td>4&lt;=X&lt;7</td>\n",
       "      <td>2</td>\n",
       "      <td>masculino solteiro</td>\n",
       "      <td>nenhum</td>\n",
       "      <td>3</td>\n",
       "      <td>bens im≤veis</td>\n",
       "      <td>49</td>\n",
       "      <td>nenhum</td>\n",
       "      <td>pr≤pria</td>\n",
       "      <td>1</td>\n",
       "      <td>nπo especializado</td>\n",
       "      <td>2</td>\n",
       "      <td>sim</td>\n",
       "      <td>bom</td>\n",
       "    </tr>\n",
       "    <tr>\n",
       "      <th>3</th>\n",
       "      <td>&lt;0</td>\n",
       "      <td>42</td>\n",
       "      <td>existente e pago</td>\n",
       "      <td>mobilia/equipamento</td>\n",
       "      <td>7882</td>\n",
       "      <td>&lt;100</td>\n",
       "      <td>4&lt;=X&lt;7</td>\n",
       "      <td>2</td>\n",
       "      <td>masculino solteiro</td>\n",
       "      <td>fiador</td>\n",
       "      <td>4</td>\n",
       "      <td>seguro de vida</td>\n",
       "      <td>45</td>\n",
       "      <td>nenhum</td>\n",
       "      <td>gratuitamente</td>\n",
       "      <td>1</td>\n",
       "      <td>especializado</td>\n",
       "      <td>2</td>\n",
       "      <td>sim</td>\n",
       "      <td>bom</td>\n",
       "    </tr>\n",
       "    <tr>\n",
       "      <th>4</th>\n",
       "      <td>&lt;0</td>\n",
       "      <td>24</td>\n",
       "      <td>atrasos anteriores</td>\n",
       "      <td>carro novo</td>\n",
       "      <td>4870</td>\n",
       "      <td>&lt;100</td>\n",
       "      <td>1&lt;=X&lt;4</td>\n",
       "      <td>3</td>\n",
       "      <td>masculino solteiro</td>\n",
       "      <td>nenhum</td>\n",
       "      <td>4</td>\n",
       "      <td>nenhuma conhecida</td>\n",
       "      <td>53</td>\n",
       "      <td>nenhum</td>\n",
       "      <td>gratuitamente</td>\n",
       "      <td>2</td>\n",
       "      <td>especializado</td>\n",
       "      <td>2</td>\n",
       "      <td>sim</td>\n",
       "      <td>ruim</td>\n",
       "    </tr>\n",
       "  </tbody>\n",
       "</table>\n",
       "</div>"
      ],
      "text/plain": [
       "  CHEQUEESPECIAL  USO_CREDITO                      HISTORICO_CREDITO  \\\n",
       "0             <0            6  crφtica / outros de crΘdito existente   \n",
       "1       0<=X<200           48                       existente e pago   \n",
       "2     sem cheque           12  crφtica / outros de crΘdito existente   \n",
       "3             <0           42                       existente e pago   \n",
       "4             <0           24                     atrasos anteriores   \n",
       "\n",
       "             PROPOSITO  BALANCO_ATUAL       BALANCO_MEDIO_CREDITO EMPREGADO  \\\n",
       "0        Computador/TV           1169  nenhuma economia conhecida       >=7   \n",
       "1        Computador/TV           5951                        <100    1<=X<4   \n",
       "2             educaτπo           2096                        <100    4<=X<7   \n",
       "3  mobilia/equipamento           7882                        <100    4<=X<7   \n",
       "4           carro novo           4870                        <100    1<=X<4   \n",
       "\n",
       "   LOCAL         ESTADOCIVIL OUTRASFUNCOES  RESIDENCIADESDE  \\\n",
       "0      4  masculino solteiro        nenhum                4   \n",
       "1      2         fem div/cas        nenhum                2   \n",
       "2      2  masculino solteiro        nenhum                3   \n",
       "3      2  masculino solteiro        fiador                4   \n",
       "4      3  masculino solteiro        nenhum                4   \n",
       "\n",
       "           TIPOSBENS  IDADE OUTROSPLANOSPGTO     RESIDENCIA  \\\n",
       "0       bens im≤veis     67           nenhum        pr≤pria   \n",
       "1       bens im≤veis     22           nenhum        pr≤pria   \n",
       "2       bens im≤veis     49           nenhum        pr≤pria   \n",
       "3     seguro de vida     45           nenhum  gratuitamente   \n",
       "4  nenhuma conhecida     53           nenhum  gratuitamente   \n",
       "\n",
       "   CREDITOSEXISTENTES            EMPREGO  DEPENDENTES TRABAESTRANGEIRO CLASSE  \n",
       "0                   2      especializado            1              sim    bom  \n",
       "1                   1      especializado            1              sim   ruim  \n",
       "2                   1  nπo especializado            2              sim    bom  \n",
       "3                   1      especializado            2              sim    bom  \n",
       "4                   2      especializado            2              sim   ruim  "
      ]
     },
     "execution_count": 4,
     "metadata": {},
     "output_type": "execute_result"
    }
   ],
   "source": [
    "df.head()"
   ]
  },
  {
   "cell_type": "code",
   "execution_count": 5,
   "metadata": {},
   "outputs": [
    {
     "data": {
      "text/plain": [
       "0"
      ]
     },
     "execution_count": 5,
     "metadata": {},
     "output_type": "execute_result"
    }
   ],
   "source": [
    "df.isnull().sum().sum()"
   ]
  },
  {
   "cell_type": "code",
   "execution_count": 11,
   "metadata": {},
   "outputs": [],
   "source": [
    "import seaborn as sns\n",
    "import matplotlib.pyplot as plt"
   ]
  },
  {
   "cell_type": "code",
   "execution_count": 7,
   "metadata": {},
   "outputs": [
    {
     "data": {
      "text/plain": [
       "<matplotlib.axes._subplots.AxesSubplot at 0x1f201f194c8>"
      ]
     },
     "execution_count": 7,
     "metadata": {},
     "output_type": "execute_result"
    },
    {
     "data": {
      "image/png": "[encoded data removed]",
      "text/plain": [
       "<Figure size 432x288 with 1 Axes>"
      ]
     },
     "metadata": {
      "needs_background": "light"
     },
     "output_type": "display_data"
    }
   ],
   "source": [
    "sns.boxplot(df['BALANCO_ATUAL'])"
   ]
  },
  {
   "cell_type": "code",
   "execution_count": 10,
   "metadata": {},
   "outputs": [
    {
     "data": {
      "text/plain": [
       "5"
      ]
     },
     "execution_count": 10,
     "metadata": {},
     "output_type": "execute_result"
    }
   ],
   "source": [
    "len(df[df['BALANCO_ATUAL'] > 15000])"
   ]
  },
  {
   "cell_type": "code",
   "execution_count": 14,
   "metadata": {},
   "outputs": [
    {
     "data": {
      "text/plain": [
       "{'whiskers': [<matplotlib.lines.Line2D at 0x1f203fd0c48>,\n",
       "  <matplotlib.lines.Line2D at 0x1f2040f7fc8>],\n",
       " 'caps': [<matplotlib.lines.Line2D at 0x1f20412e788>,\n",
       "  <matplotlib.lines.Line2D at 0x1f20412ef48>],\n",
       " 'boxes': [<matplotlib.patches.PathPatch at 0x1f2040f71c8>],\n",
       " 'medians': [<matplotlib.lines.Line2D at 0x1f204131708>],\n",
       " 'fliers': [<matplotlib.lines.Line2D at 0x1f204131ec8>],\n",
       " 'means': []}"
      ]
     },
     "execution_count": 14,
     "metadata": {},
     "output_type": "execute_result"
    },
    {
     "data": {
      "image/png": "[encoded data removed]",
      "text/plain": [
       "<Figure size 432x288 with 1 Axes>"
      ]
     },
     "metadata": {
      "needs_background": "light"
     },
     "output_type": "display_data"
    }
   ],
   "source": [
    "plt.boxplot(df.BALANCO_ATUAL, vert = True, showfliers = True, notch = True,\n",
    "            patch_artist = True)"
   ]
  },
  {
   "cell_type": "code",
   "execution_count": 16,
   "metadata": {},
   "outputs": [],
   "source": [
    "valor = df['BALANCO_ATUAL']"
   ]
  },
  {
   "cell_type": "code",
   "execution_count": 17,
   "metadata": {},
   "outputs": [],
   "source": [
    "Q1 = valor.quantile(.25)\n",
    "Q3 = valor.quantile(.75)\n",
    "IIQ = Q3 - Q1\n",
    "limite_inferior = Q1 -1.5 * IIQ\n",
    "limite_superior = Q3 + 1.5 * IIQ"
   ]
  },
  {
   "cell_type": "code",
   "execution_count": 19,
   "metadata": {},
   "outputs": [],
   "source": [
    "selecao = (valor >= limite_inferior) & (valor <= limite_superior)\n",
    "df_new = df[selecao]"
   ]
  },
  {
   "cell_type": "code",
   "execution_count": 21,
   "metadata": {},
   "outputs": [
    {
     "data": {
      "image/png": "[encoded data removed]",
      "text/plain": [
       "<Figure size 432x288 with 1 Axes>"
      ]
     },
     "metadata": {
      "needs_background": "light"
     },
     "output_type": "display_data"
    }
   ],
   "source": [
    "df_new.boxplot(['BALANCO_ATUAL'])\n",
    "plt.rc('figure', figsize = (14, 6))"
   ]
  },
  {
   "cell_type": "code",
   "execution_count": 22,
   "metadata": {},
   "outputs": [
    {
     "data": {
      "text/plain": [
       "array([[<matplotlib.axes._subplots.AxesSubplot object at 0x000001F2065C0148>]],\n",
       "      dtype=object)"
      ]
     },
     "execution_count": 22,
     "metadata": {},
     "output_type": "execute_result"
    },
    {
     "data": {
      "image/png": "[encoded data removed]",
      "text/plain": [
       "<Figure size 1008x432 with 1 Axes>"
      ]
     },
     "metadata": {
      "needs_background": "light"
     },
     "output_type": "display_data"
    },
    {
     "data": {
      "image/png": "[encoded data removed]",
      "text/plain": [
       "<Figure size 1008x432 with 1 Axes>"
      ]
     },
     "metadata": {
      "needs_background": "light"
     },
     "output_type": "display_data"
    }
   ],
   "source": [
    "df.hist(['BALANCO_ATUAL'])\n",
    "df_new.hist(['BALANCO_ATUAL'])"
   ]
  },
  {
   "cell_type": "code",
   "execution_count": 23,
   "metadata": {},
   "outputs": [
    {
     "data": {
      "text/plain": [
       "<matplotlib.axes._subplots.AxesSubplot at 0x1f2065a2a48>"
      ]
     },
     "execution_count": 23,
     "metadata": {},
     "output_type": "execute_result"
    },
    {
     "data": {
      "image/png": "[encoded data removed]",
      "text/plain": [
       "<Figure size 1008x432 with 1 Axes>"
      ]
     },
     "metadata": {
      "needs_background": "light"
     },
     "output_type": "display_data"
    }
   ],
   "source": [
    "df.boxplot(['BALANCO_ATUAL'], by=['PROPOSITO'])"
   ]
  },
  {
   "cell_type": "code",
   "execution_count": 24,
   "metadata": {},
   "outputs": [],
   "source": [
    "grupo_tipo = df.groupby('PROPOSITO')['BALANCO_ATUAL']"
   ]
  },
  {
   "cell_type": "code",
   "execution_count": 25,
   "metadata": {},
   "outputs": [],
   "source": [
    "Q1 = grupo_tipo.quantile(.25)\n",
    "Q3 = grupo_tipo.quantile(.75)\n",
    "IIQ = Q3 - Q1\n",
    "limite_inferior = Q1 - 1.5 * IIQ\n",
    "limite_superior = Q3 + 1.5 * IIQ"
   ]
  },
  {
   "cell_type": "code",
   "execution_count": 26,
   "metadata": {},
   "outputs": [
    {
     "data": {
      "text/plain": [
       "PROPOSITO\n",
       "Computador/TV          1261.00\n",
       "EletrodomΘsticos       1131.25\n",
       "carro novo             1241.50\n",
       "carro usado            2917.00\n",
       "educaτπo               1198.25\n",
       "mobilia/equipamento    1747.00\n",
       "neg≤cios               1908.00\n",
       "obras                  1214.50\n",
       "outros                 2410.50\n",
       "qualificaτπo            894.00\n",
       "Name: BALANCO_ATUAL, dtype: float64"
      ]
     },
     "execution_count": 26,
     "metadata": {},
     "output_type": "execute_result"
    }
   ],
   "source": [
    "Q1"
   ]
  },
  {
   "cell_type": "code",
   "execution_count": 27,
   "metadata": {},
   "outputs": [
    {
     "data": {
      "text/plain": [
       "PROPOSITO\n",
       "Computador/TV           3038.00\n",
       "EletrodomΘsticos        1359.50\n",
       "carro novo              3632.50\n",
       "carro usado             7498.00\n",
       "educaτπo                4425.25\n",
       "mobilia/equipamento     3643.00\n",
       "neg≤cios                5293.00\n",
       "obras                   3203.25\n",
       "outros                 12649.00\n",
       "qualificaτπo            1238.00\n",
       "Name: BALANCO_ATUAL, dtype: float64"
      ]
     },
     "execution_count": 27,
     "metadata": {},
     "output_type": "execute_result"
    }
   ],
   "source": [
    "Q3"
   ]
  },
  {
   "cell_type": "code",
   "execution_count": 28,
   "metadata": {},
   "outputs": [
    {
     "data": {
      "text/plain": [
       "PROPOSITO\n",
       "Computador/TV           1777.00\n",
       "EletrodomΘsticos         228.25\n",
       "carro novo              2391.00\n",
       "carro usado             4581.00\n",
       "educaτπo                3227.00\n",
       "mobilia/equipamento     1896.00\n",
       "neg≤cios                3385.00\n",
       "obras                   1988.75\n",
       "outros                 10238.50\n",
       "qualificaτπo             344.00\n",
       "Name: BALANCO_ATUAL, dtype: float64"
      ]
     },
     "execution_count": 28,
     "metadata": {},
     "output_type": "execute_result"
    }
   ],
   "source": [
    "IIQ"
   ]
  },
  {
   "cell_type": "code",
   "execution_count": 29,
   "metadata": {},
   "outputs": [],
   "source": [
    "dados_new = pd.DataFrame()\n",
    "for tipo in grupo_tipo.groups.keys():\n",
    "    eh_tipo = df['PROPOSITO'] == tipo\n",
    "    eh_dentro_limite = (df['BALANCO_ATUAL'] >= limite_inferior[tipo]) &(df['BALANCO_ATUAL'] <= limite_superior[tipo])\n",
    "    selecao = eh_tipo & eh_dentro_limite\n",
    "    dados_selecao = df[selecao]\n",
    "    dados_new = pd.concat([dados_new, dados_selecao])"
   ]
  },
  {
   "cell_type": "code",
   "execution_count": 30,
   "metadata": {},
   "outputs": [
    {
     "data": {
      "text/plain": [
       "<matplotlib.axes._subplots.AxesSubplot at 0x1f205b942c8>"
      ]
     },
     "execution_count": 30,
     "metadata": {},
     "output_type": "execute_result"
    },
    {
     "data": {
      "image/png": "[encoded data removed]",
      "text/plain": [
       "<Figure size 1008x432 with 1 Axes>"
      ]
     },
     "metadata": {
      "needs_background": "light"
     },
     "output_type": "display_data"
    }
   ],
   "source": [
    "dados_new.boxplot(['BALANCO_ATUAL'], by = ['PROPOSITO'])"
   ]
  },
  {
   "cell_type": "code",
   "execution_count": 31,
   "metadata": {},
   "outputs": [],
   "source": [
    "dados_new.to_csv('credito_sem_outliers.csv', sep=';', index=False)"
   ]
  },
  {
   "cell_type": "code",
   "execution_count": null,
   "metadata": {},
   "outputs": [],
   "source": []
  }
 ],
 "metadata": {
  "kernelspec": {
   "display_name": "Python 3",
   "language": "python",
   "name": "python3"
  },
  "language_info": {
   "codemirror_mode": {
    "name": "ipython",
    "version": 3
   },
   "file_extension": ".py",
   "mimetype": "text/x-python",
   "name": "python",
   "nbconvert_exporter": "python",
   "pygments_lexer": "ipython3",
   "version": "3.7.4"
  }
 },
 "nbformat": 4,
 "nbformat_minor": 2
}
